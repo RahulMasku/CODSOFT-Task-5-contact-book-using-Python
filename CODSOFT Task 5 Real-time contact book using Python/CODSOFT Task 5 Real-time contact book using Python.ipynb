{
 "cells": [
  {
   "cell_type": "markdown",
   "id": "6cfd9b45",
   "metadata": {},
   "source": [
    "## CodSoft Internship Program."
   ]
  },
  {
   "cell_type": "markdown",
   "id": "29d44571",
   "metadata": {},
   "source": [
    "### TASK 5: Real-time contact book using Python"
   ]
  },
  {
   "cell_type": "code",
   "execution_count": null,
   "id": "e9a1f57b",
   "metadata": {},
   "outputs": [
    {
     "name": "stdout",
     "output_type": "stream",
     "text": [
      "\n",
      "Contact Book Menu:\n",
      "1. Add Contact\n",
      "2. View Contacts\n",
      "3. Search Contact\n",
      "4. Update Contact\n",
      "5. Delete Contact\n",
      "0. Exit\n"
     ]
    }
   ],
   "source": [
    "class ContactBook:\n",
    "    def __init__(self):\n",
    "        self.contacts = {}\n",
    "\n",
    "    def add_contact(self, name, phone, email, address):\n",
    "        self.contacts[name] = {'phone': phone, 'email': email, 'address': address}\n",
    "        print(f\"Contact {name} added successfully!\")\n",
    "\n",
    "    def view_contacts(self):\n",
    "        if not self.contacts:\n",
    "            print(\"Contact book is empty.\")\n",
    "        else:\n",
    "            for name, info in self.contacts.items():\n",
    "                print(f\"{name}: {info}\")\n",
    "\n",
    "    def search_contact(self, name):\n",
    "        if name in self.contacts:\n",
    "            print(f\"{name}: {self.contacts[name]}\")\n",
    "        else:\n",
    "            print(f\"Contact {name} not found.\")\n",
    "\n",
    "    def update_contact(self, name, phone=None, email=None, address=None):\n",
    "        if name in self.contacts:\n",
    "            contact = self.contacts[name]\n",
    "            if phone:\n",
    "                contact['phone'] = phone\n",
    "            if email:\n",
    "                contact['email'] = email\n",
    "            if address:\n",
    "                contact['address'] = address\n",
    "            print(f\"Contact {name} updated successfully!\")\n",
    "        else:\n",
    "            print(f\"Contact {name} not found.\")\n",
    "\n",
    "    def delete_contact(self, name):\n",
    "        if name in self.contacts:\n",
    "            del self.contacts[name]\n",
    "            print(f\"Contact {name} deleted successfully!\")\n",
    "        else:\n",
    "            print(f\"Contact {name} not found.\")\n",
    "\n",
    "def main():\n",
    "    contact_book = ContactBook()\n",
    "\n",
    "    while True:\n",
    "        print(\"\\nContact Book Menu:\")\n",
    "        print(\"1. Add Contact\")\n",
    "        print(\"2. View Contacts\")\n",
    "        print(\"3. Search Contact\")\n",
    "        print(\"4. Update Contact\")\n",
    "        print(\"5. Delete Contact\")\n",
    "        print(\"0. Exit\")\n",
    "\n",
    "        choice = input(\"Enter your choice (0-5): \")\n",
    "\n",
    "        if choice == '0':\n",
    "            print(\"Exiting Contact Book. Goodbye!\")\n",
    "            break\n",
    "        elif choice == '1':\n",
    "            name = input(\"Enter name: \")\n",
    "            phone = input(\"Enter phone number: \")\n",
    "            email = input(\"Enter email address: \")\n",
    "            address = input(\"Enter address: \")\n",
    "            contact_book.add_contact(name, phone, email, address)\n",
    "        elif choice == '2':\n",
    "            contact_book.view_contacts()\n",
    "        elif choice == '3':\n",
    "            name = input(\"Enter name to search: \")\n",
    "            contact_book.search_contact(name)\n",
    "        elif choice == '4':\n",
    "            name = input(\"Enter name to update: \")\n",
    "            phone = input(\"Enter new phone number (press Enter to skip): \")\n",
    "            email = input(\"Enter new email address (press Enter to skip): \")\n",
    "            address = input(\"Enter new address (press Enter to skip): \")\n",
    "            contact_book.update_contact(name, phone, email, address)\n",
    "        elif choice == '5':\n",
    "            name = input(\"Enter name to delete: \")\n",
    "            contact_book.delete_contact(name)\n",
    "        else:\n",
    "            print(\"Invalid choice. Please enter a number between 0 and 5.\")\n",
    "\n",
    "if __name__ == \"__main__\":\n",
    "    main()\n"
   ]
  }
 ],
 "metadata": {
  "kernelspec": {
   "display_name": "Python 3 (ipykernel)",
   "language": "python",
   "name": "python3"
  },
  "language_info": {
   "codemirror_mode": {
    "name": "ipython",
    "version": 3
   },
   "file_extension": ".py",
   "mimetype": "text/x-python",
   "name": "python",
   "nbconvert_exporter": "python",
   "pygments_lexer": "ipython3",
   "version": "3.11.3"
  }
 },
 "nbformat": 4,
 "nbformat_minor": 5
}
